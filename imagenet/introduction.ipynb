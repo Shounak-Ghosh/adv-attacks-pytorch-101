{
 "cells": [
  {
   "cell_type": "code",
   "execution_count": 3,
   "metadata": {
    "collapsed": true
   },
   "outputs": [
    {
     "ename": "ModuleNotFoundError",
     "evalue": "No module named 'torch'",
     "output_type": "error",
     "traceback": [
      "\u001B[0;31m---------------------------------------------------------------------------\u001B[0m",
      "\u001B[0;31mModuleNotFoundError\u001B[0m                       Traceback (most recent call last)",
      "\u001B[0;32m<ipython-input-3-04ffac65e8fc>\u001B[0m in \u001B[0;36m<module>\u001B[0;34m\u001B[0m\n\u001B[0;32m----> 1\u001B[0;31m \u001B[0;32mimport\u001B[0m \u001B[0mtorch\u001B[0m\u001B[0;34m\u001B[0m\u001B[0;34m\u001B[0m\u001B[0m\n\u001B[0m\u001B[1;32m      2\u001B[0m \u001B[0;32mfrom\u001B[0m \u001B[0mtorch\u001B[0m \u001B[0;32mimport\u001B[0m \u001B[0mnn\u001B[0m\u001B[0;34m\u001B[0m\u001B[0;34m\u001B[0m\u001B[0m\n\u001B[1;32m      3\u001B[0m \u001B[0;32mfrom\u001B[0m \u001B[0mtorch\u001B[0m\u001B[0;34m.\u001B[0m\u001B[0mautograd\u001B[0m \u001B[0;32mimport\u001B[0m \u001B[0mVariable\u001B[0m\u001B[0;34m\u001B[0m\u001B[0;34m\u001B[0m\u001B[0m\n\u001B[1;32m      4\u001B[0m \u001B[0;32mfrom\u001B[0m \u001B[0mtorch\u001B[0m\u001B[0;34m.\u001B[0m\u001B[0mautograd\u001B[0m\u001B[0;34m.\u001B[0m\u001B[0mgradcheck\u001B[0m \u001B[0;32mimport\u001B[0m \u001B[0mzero_gradients\u001B[0m\u001B[0;34m\u001B[0m\u001B[0;34m\u001B[0m\u001B[0m\n\u001B[1;32m      5\u001B[0m \u001B[0;32mfrom\u001B[0m \u001B[0mtorch\u001B[0m\u001B[0;34m.\u001B[0m\u001B[0mutils\u001B[0m\u001B[0;34m.\u001B[0m\u001B[0mdata\u001B[0m \u001B[0;32mimport\u001B[0m \u001B[0mDataset\u001B[0m\u001B[0;34m,\u001B[0m \u001B[0mDataLoader\u001B[0m\u001B[0;34m\u001B[0m\u001B[0;34m\u001B[0m\u001B[0m\n",
      "\u001B[0;31mModuleNotFoundError\u001B[0m: No module named 'torch'"
     ]
    }
   ],
   "source": [
    "import torch\n",
    "from torch import nn\n",
    "from torch.autograd import Variable\n",
    "from torch.autograd.gradcheck import zero_gradients\n",
    "from torch.utils.data import Dataset, DataLoader\n",
    "\n",
    "import torchvision.transforms as T\n",
    "from torchvision.models.inception import inception_v3\n",
    "\n",
    "from PIL import Image\n",
    "from scipy.misc import imsave\n",
    "\n",
    "import matplotlib.pyplot as plt\n",
    "import os\n",
    "import numpy as np"
   ]
  },
  {
   "cell_type": "code",
   "execution_count": null,
   "metadata": {
    "collapsed": false
   },
   "outputs": [],
   "source": [
    "classes = eval(open('classes.txt').read())\n",
    "trans = T.Compose([T.ToTensor(), T.Lambda(lambda t: t.unsqueeze(0))])\n",
    "reverse_trans = lambda x: np.asarray(T.ToPILImage()(x))\n",
    "\n",
    "eps = 2 * 8 / 225. \n",
    "steps = 40\n",
    "norm = float('inf')\n",
    "step_alpha = 0.01 \n",
    "\n",
    "model = inception_v3(pretrained=True, transform_input=True).cuda()\n",
    "loss = nn.CrossEntropyLoss()\n",
    "model.eval();"
   ]
  },
  {
   "cell_type": "code",
   "execution_count": null,
   "metadata": {
    "collapsed": false
   },
   "outputs": [],
   "source": [
    "def load_image(img_path):\n",
    "    img = trans(Image.open(img_path).convert('RGB'))\n",
    "    return img\n",
    "\n",
    "def get_class(img):\n",
    "    x = Variable(img, volatile=True).cuda()\n",
    "    cls = model(x).data.max(1)[1].cpu().numpy()[0]\n",
    "    return classes[cls]\n",
    "\n",
    "def draw_result(img, noise, adv_img):\n",
    "    fig, ax = plt.subplots(1, 3, figsize=(15, 10))\n",
    "    orig_class, attack_class = get_class(img), get_class(adv_img)\n",
    "    ax[0].imshow(reverse_trans(img[0]))\n",
    "    ax[0].set_title('Original image: {}'.format(orig_class.split(',')[0]))\n",
    "    ax[1].imshow(noise[0].cpu().numpy().transpose(1, 2, 0))\n",
    "    ax[1].set_title('Attacking noise')\n",
    "    ax[2].imshow(reverse_trans(adv_img[0]))\n",
    "    ax[2].set_title('Adversarial example: {}'.format(attack_class))\n",
    "    for i in range(3):\n",
    "        ax[i].set_axis_off()\n",
    "    plt.tight_layout()\n",
    "    plt.show()"
   ]
  },
  {
   "cell_type": "code",
   "execution_count": null,
   "metadata": {
    "collapsed": true
   },
   "outputs": [],
   "source": [
    "def non_targeted_attack(img):\n",
    "    img = img.cuda()\n",
    "    label = torch.zeros(1, 1).cuda()\n",
    "    \n",
    "    x, y = Variable(img, requires_grad=True), Variable(label)\n",
    "    for step in range(steps):\n",
    "        zero_gradients(x)\n",
    "        out = model(x)\n",
    "        y.data = out.data.max(1)[1]\n",
    "        _loss = loss(out, y)\n",
    "        _loss.backward()\n",
    "        normed_grad = step_alpha * torch.sign(x.grad.data)\n",
    "        step_adv = x.data + normed_grad\n",
    "        adv = step_adv - img\n",
    "        adv = torch.clamp(adv, -eps, eps)\n",
    "        result = img + adv\n",
    "        result = torch.clamp(result, 0.0, 1.0)\n",
    "        x.data = result\n",
    "    return result.cpu(), adv.cpu()"
   ]
  },
  {
   "cell_type": "code",
   "execution_count": null,
   "metadata": {
    "collapsed": false
   },
   "outputs": [],
   "source": [
    "img = load_image('input.png')\n",
    "adv_img, noise = non_targeted_attack(img)\n",
    "draw_result(img, noise, adv_img)"
   ]
  },
  {
   "cell_type": "code",
   "execution_count": null,
   "metadata": {
    "collapsed": true
   },
   "outputs": [],
   "source": [
    "def targeted_attack(img, label):\n",
    "    img = img.cuda()\n",
    "    label = torch.Tensor([label]).long().cuda()\n",
    "    \n",
    "    x, y = Variable(img, requires_grad=True), Variable(label)\n",
    "    for step in range(steps):\n",
    "        zero_gradients(x)\n",
    "        out = model(x)\n",
    "        _loss = loss(out, y)\n",
    "        _loss.backward()\n",
    "        normed_grad = step_alpha * torch.sign(x.grad.data)\n",
    "        step_adv = x.data - normed_grad\n",
    "        adv = step_adv - img\n",
    "        adv = torch.clamp(adv, -eps, eps)\n",
    "        result = img + adv\n",
    "        result = torch.clamp(result, 0.0, 1.0)\n",
    "        x.data = result\n",
    "    return result.cpu(), adv.cpu()"
   ]
  },
  {
   "cell_type": "code",
   "execution_count": null,
   "metadata": {
    "collapsed": false
   },
   "outputs": [],
   "source": [
    "img = load_image('input.png')\n",
    "adv_img, noise = targeted_attack(img, 859)\n",
    "draw_result(img, noise, adv_img)"
   ]
  },
  {
   "cell_type": "code",
   "execution_count": null,
   "metadata": {
    "collapsed": true
   },
   "outputs": [],
   "source": []
  }
 ],
 "metadata": {
  "kernelspec": {
   "display_name": "Python 3",
   "language": "python",
   "name": "python3"
  },
  "language_info": {
   "codemirror_mode": {
    "name": "ipython",
    "version": 3
   },
   "file_extension": ".py",
   "mimetype": "text/x-python",
   "name": "python",
   "nbconvert_exporter": "python",
   "pygments_lexer": "ipython3",
   "version": "3.6.0"
  }
 },
 "nbformat": 4,
 "nbformat_minor": 2
}